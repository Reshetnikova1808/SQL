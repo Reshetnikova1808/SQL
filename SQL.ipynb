{
 "cells": [
  {
   "cell_type": "markdown",
   "id": "3ef1816e",
   "metadata": {},
   "source": [
    "## SQL"
   ]
  },
  {
   "cell_type": "markdown",
   "id": "c70f093a",
   "metadata": {},
   "source": [
    "## 1. Очень усердные ученики.\n",
    "\n",
    "Условие:\n",
    "\n",
    "Образовательные курсы состоят из различных уроков, каждый из которых состоит из нескольких маленьких заданий. \n",
    "Каждое такое маленькое задание называется \"горошиной\".\n",
    "\n",
    "Назовём очень усердным учеником того пользователя, который хотя бы раз за текущий месяц правильно решил 20 горошин.\n",
    "Задание: Необходимо написать оптимальный запрос, который даст информацию о количестве очень усердных студентов.\n",
    "NB! Под усердным студентом мы понимаем студента, который правильно решил 20 задач за текущий месяц."
   ]
  },
  {
   "cell_type": "markdown",
   "id": "bb39939d",
   "metadata": {},
   "source": [
    "Импортируем необходимые библиотеки:"
   ]
  },
  {
   "cell_type": "code",
   "execution_count": 1,
   "id": "8788658a",
   "metadata": {},
   "outputs": [],
   "source": [
    "import requests\n",
    "import pandahouse as ph"
   ]
  },
  {
   "cell_type": "markdown",
   "id": "a9aa27ea",
   "metadata": {},
   "source": [
    "Для решения задания создаем словарь connection с нужными параметрами (для подключения к default):"
   ]
  },
  {
   "cell_type": "code",
   "execution_count": 2,
   "id": "de170b3f",
   "metadata": {},
   "outputs": [],
   "source": [
    "connection_default = {'host': 'https://clickhouse.lab.karpov.courses',\n",
    "                      'database':'default',\n",
    "                      'user':'student', \n",
    "                      'password':'dpo_python_2020'\n",
    "                     }"
   ]
  },
  {
   "cell_type": "markdown",
   "id": "042d369a",
   "metadata": {},
   "source": [
    "Создадим запрос к default.peas, позволяющий отфильтровать учеников, решивших более 20 задач за текущий месяц."
   ]
  },
  {
   "cell_type": "code",
   "execution_count": 3,
   "id": "b2dfd98b",
   "metadata": {},
   "outputs": [
    {
     "data": {
      "text/html": [
       "<div>\n",
       "<style scoped>\n",
       "    .dataframe tbody tr th:only-of-type {\n",
       "        vertical-align: middle;\n",
       "    }\n",
       "\n",
       "    .dataframe tbody tr th {\n",
       "        vertical-align: top;\n",
       "    }\n",
       "\n",
       "    .dataframe thead th {\n",
       "        text-align: right;\n",
       "    }\n",
       "</style>\n",
       "<table border=\"1\" class=\"dataframe\">\n",
       "  <thead>\n",
       "    <tr style=\"text-align: right;\">\n",
       "      <th></th>\n",
       "      <th>month_date</th>\n",
       "      <th>diligent_student</th>\n",
       "    </tr>\n",
       "  </thead>\n",
       "  <tbody>\n",
       "    <tr>\n",
       "      <th>0</th>\n",
       "      <td>2021-10-01</td>\n",
       "      <td>136</td>\n",
       "    </tr>\n",
       "  </tbody>\n",
       "</table>\n",
       "</div>"
      ],
      "text/plain": [
       "  month_date  diligent_student\n",
       "0 2021-10-01               136"
      ]
     },
     "execution_count": 3,
     "metadata": {},
     "output_type": "execute_result"
    }
   ],
   "source": [
    "query_1 = '''\n",
    "SELECT month_date,\n",
    "       count(DISTINCT st_id) AS diligent_student\n",
    "FROM (\n",
    "      SELECT toStartOfMonth(timest) AS month_date,\n",
    "             st_id\n",
    "      FROM default.peas\n",
    "      WHERE correct = 1\n",
    "      GROUP BY month_date, st_id\n",
    "      HAVING count(st_id)>=20\n",
    "     )\n",
    "GROUP BY month_date\n",
    "   '''\n",
    "diligent_student = ph.read_clickhouse(query=query_1, connection=connection_default)\n",
    "diligent_student"
   ]
  },
  {
   "cell_type": "markdown",
   "id": "8d1543d0",
   "metadata": {},
   "source": [
    "В результате выполнения запроса получили - 136 учердных учеников, дата - 01-10-2021 (отличается от текущей, не смотря на то, что в запросе используется \"toStartOfMonth()\", делаем вывод, что последние данные в \"default.peas\"отображены за октябрь 2021)"
   ]
  },
  {
   "cell_type": "markdown",
   "id": "7f92ec4b",
   "metadata": {},
   "source": [
    "## 2 Оптимизация воронки\n",
    "\n",
    "Условие: \n",
    "\n",
    "Образовательная платформа предлагает пройти студентам курсы по модели trial: студент может решить бесплатно лишь 30 горошин в день. Для неограниченного количества заданий в определенной дисциплине студенту необходимо приобрести полный доступ. Команда провела эксперимент, где был протестирован новый экран оплаты.\n",
    "\n",
    "Задача: Необходимо в одном запросе выгрузить следующую информацию о группах пользователей:\n",
    "\n",
    "ARPU;\n",
    "\n",
    "ARPAU;\n",
    "\n",
    "CR в покупку;\n",
    "\n",
    "СR активного пользователя в покупку;\n",
    "\n",
    "CR пользователя из активности по математике (subject = ’math’) в покупку курса по математике ARPU считается относительно всех пользователей, попавших в группы.\n",
    "\n",
    "Активным считается пользователь, за все время решивший больше 10 задач правильно в любых дисциплинах. Активным по математике считается пользователь, за все время решивший 2 или больше задач правильно по математике."
   ]
  },
  {
   "cell_type": "code",
   "execution_count": 4,
   "id": "62b35d21",
   "metadata": {},
   "outputs": [
    {
     "data": {
      "text/html": [
       "<div>\n",
       "<style scoped>\n",
       "    .dataframe tbody tr th:only-of-type {\n",
       "        vertical-align: middle;\n",
       "    }\n",
       "\n",
       "    .dataframe tbody tr th {\n",
       "        vertical-align: top;\n",
       "    }\n",
       "\n",
       "    .dataframe thead th {\n",
       "        text-align: right;\n",
       "    }\n",
       "</style>\n",
       "<table border=\"1\" class=\"dataframe\">\n",
       "  <thead>\n",
       "    <tr style=\"text-align: right;\">\n",
       "      <th></th>\n",
       "      <th>test_grp</th>\n",
       "      <th>ARPU</th>\n",
       "      <th>ARPAU</th>\n",
       "      <th>CR</th>\n",
       "      <th>CR_active</th>\n",
       "      <th>CR_active_math</th>\n",
       "    </tr>\n",
       "  </thead>\n",
       "  <tbody>\n",
       "    <tr>\n",
       "      <th>0</th>\n",
       "      <td>control</td>\n",
       "      <td>4540.983607</td>\n",
       "      <td>10393.700787</td>\n",
       "      <td>4.918033</td>\n",
       "      <td>11.023622</td>\n",
       "      <td>10.204082</td>\n",
       "    </tr>\n",
       "    <tr>\n",
       "      <th>1</th>\n",
       "      <td>pilot</td>\n",
       "      <td>11508.474576</td>\n",
       "      <td>29739.583333</td>\n",
       "      <td>10.847458</td>\n",
       "      <td>26.041667</td>\n",
       "      <td>14.285714</td>\n",
       "    </tr>\n",
       "  </tbody>\n",
       "</table>\n",
       "</div>"
      ],
      "text/plain": [
       "  test_grp          ARPU         ARPAU         CR  CR_active  CR_active_math\n",
       "0  control   4540.983607  10393.700787   4.918033  11.023622       10.204082\n",
       "1    pilot  11508.474576  29739.583333  10.847458  26.041667       14.285714"
      ]
     },
     "execution_count": 4,
     "metadata": {},
     "output_type": "execute_result"
    }
   ],
   "source": [
    "query_2 =  '''\n",
    "SELECT d.test_grp,\n",
    "       sum_all_money/cnt_all AS ARPU,\n",
    "       sum_active_money/cnt_active_all AS ARPAU,\n",
    "       cnt_all_paid*100/cnt_all AS CR, \n",
    "       -- CR в покупку \n",
    "       cnt_all_active_paid*100/cnt_active_all AS CR_active, \n",
    "       -- СR активного пользователя в покупку \n",
    "       cnt_all_active_paid_math*100/cnt_active_math AS CR_active_math \n",
    "       -- CR пользователя из активности по математике в покупку курса по математике\n",
    "FROM \n",
    "    (\n",
    "    SELECT s.test_grp AS test_grp, \n",
    "           -- -- производим необходимые расчеты по данным из таблицы studs:\n",
    "           COUNT(*) cnt_all, \n",
    "           -- для расчета ARPU, CR\n",
    "           SUM(c.sum_money) AS sum_all_money,\n",
    "           -- для расчета ARPU \n",
    "           COUNT(IF(c.check=1, 1, null)) AS cnt_all_paid,\n",
    "           -- для расчета CR\n",
    "           COUNT(IF(c.check=1, p.cnt_active, null)) AS cnt_all_active_paid,\n",
    "           -- для расчета СR активного пользователя в покупку \n",
    "           COUNT(IF(c.check=1, p.cnt_active_math, null)) AS cnt_all_active_paid_math,\n",
    "           -- для расчета CR пользователя из активности по математике в покупку курса по математике\n",
    "           SUM(IF(p.cnt_active=1,c.sum_money,0)) AS sum_active_money,\n",
    "           -- для расчета ARPAU\n",
    "           SUM(c.cnt_math_paid) AS cnt_math_paid,\n",
    "           SUM(c.math_paid_sum) AS math_paid_sum,\n",
    "           SUM(p.cnt_active) AS cnt_active_all,\n",
    "           -- для расчета ARPAU, CR_active\n",
    "           SUM(p.cnt_active_math) AS cnt_active_math\n",
    "           -- для расчета CR_active_math\n",
    "    FROM studs s \n",
    "    LEFT JOIN -- добавляем информацию о покупках из таблицы final_project_check\n",
    "            (\n",
    "            SELECT c.st_id,\n",
    "                   1 check, --  отражает факт покупки (1 - была покупка)\n",
    "                   SUM(c.money) AS sum_money,\n",
    "                   MAX(IF(c.subject = 'Math', 1, 0)) AS cnt_math_paid,\n",
    "                   SUM(IF(c.subject = 'Math', c.money, 0)) AS math_paid_sum\n",
    "                  \n",
    "            FROM final_project_check c\n",
    "            GROUP BY c.st_id\n",
    "            ) c\n",
    "    ON (c.st_id = s.st_id)\n",
    "    LEFT JOIN  -- добавляем информацию об активных пользователях из таблицы peas\n",
    "            (\n",
    "            SELECT p.st_id,\n",
    "                   1 check, -- отражает факт покупки (1 - была покупка)\n",
    "                   IF(COUNT(*)>10,1,NULL) AS cnt_active,             \n",
    "                   IF(COUNT(IF(p.subject = 'Math', 1, NULL)) >= 2, 1, NULL) AS cnt_active_math\n",
    "            FROM peas p\n",
    "            WHERE p.correct = 1\n",
    "            GROUP BY p.st_id\n",
    "            ) p \n",
    "    ON (p.st_id = s.st_id)\n",
    "    GROUP BY s.test_grp\n",
    "    ) d\n",
    "'''\n",
    "final_information = ph.read_clickhouse(query=query_2, connection=connection_default)\n",
    "final_information"
   ]
  }
 ],
 "metadata": {
  "kernelspec": {
   "display_name": "Python 3 (ipykernel)",
   "language": "python",
   "name": "python3"
  },
  "language_info": {
   "codemirror_mode": {
    "name": "ipython",
    "version": 3
   },
   "file_extension": ".py",
   "mimetype": "text/x-python",
   "name": "python",
   "nbconvert_exporter": "python",
   "pygments_lexer": "ipython3",
   "version": "3.9.13"
  }
 },
 "nbformat": 4,
 "nbformat_minor": 5
}
